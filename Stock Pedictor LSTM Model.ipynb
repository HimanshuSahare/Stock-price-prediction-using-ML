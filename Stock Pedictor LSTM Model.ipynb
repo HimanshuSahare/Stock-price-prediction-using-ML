{
 "cells": [
  {
   "cell_type": "code",
   "execution_count": null,
   "id": "4b8a40d1",
   "metadata": {},
   "outputs": [],
   "source": [
    "#keras and Tensorflow >2.0"
   ]
  },
  {
   "cell_type": "code",
   "execution_count": 21,
   "id": "d46ff508",
   "metadata": {},
   "outputs": [],
   "source": [
    "import pandas as pd\n",
    "import numpy as np\n",
    "import matplotlib.pyplot as plt\n",
    "import pandas_datareader as pdr\n",
    "import datetime as dt\n",
    "\n",
    "\n"
   ]
  },
  {
   "cell_type": "code",
   "execution_count": 24,
   "id": "32dcf913",
   "metadata": {},
   "outputs": [
    {
     "name": "stderr",
     "output_type": "stream",
     "text": [
      "C:\\Users\\Himanshu\\AppData\\Local\\Temp\\ipykernel_15760\\1773163025.py:1: FutureWarning: In a future version of pandas all arguments of concat except for the argument 'objs' will be keyword-only.\n",
      "  df=pdr.get_data_tiingo('AAPL',api_key=\"576a3eb71590fe6808cd2a75620aac930ae49e5e\")\n"
     ]
    },
    {
     "data": {
      "text/html": [
       "<div>\n",
       "<style scoped>\n",
       "    .dataframe tbody tr th:only-of-type {\n",
       "        vertical-align: middle;\n",
       "    }\n",
       "\n",
       "    .dataframe tbody tr th {\n",
       "        vertical-align: top;\n",
       "    }\n",
       "\n",
       "    .dataframe thead th {\n",
       "        text-align: right;\n",
       "    }\n",
       "</style>\n",
       "<table border=\"1\" class=\"dataframe\">\n",
       "  <thead>\n",
       "    <tr style=\"text-align: right;\">\n",
       "      <th></th>\n",
       "      <th></th>\n",
       "      <th>close</th>\n",
       "      <th>high</th>\n",
       "      <th>low</th>\n",
       "      <th>open</th>\n",
       "      <th>volume</th>\n",
       "      <th>adjClose</th>\n",
       "      <th>adjHigh</th>\n",
       "      <th>adjLow</th>\n",
       "      <th>adjOpen</th>\n",
       "      <th>adjVolume</th>\n",
       "      <th>divCash</th>\n",
       "      <th>splitFactor</th>\n",
       "    </tr>\n",
       "    <tr>\n",
       "      <th>symbol</th>\n",
       "      <th>date</th>\n",
       "      <th></th>\n",
       "      <th></th>\n",
       "      <th></th>\n",
       "      <th></th>\n",
       "      <th></th>\n",
       "      <th></th>\n",
       "      <th></th>\n",
       "      <th></th>\n",
       "      <th></th>\n",
       "      <th></th>\n",
       "      <th></th>\n",
       "      <th></th>\n",
       "    </tr>\n",
       "  </thead>\n",
       "  <tbody>\n",
       "    <tr>\n",
       "      <th rowspan=\"5\" valign=\"top\">AAPL</th>\n",
       "      <th>2023-11-09 00:00:00+00:00</th>\n",
       "      <td>182.41</td>\n",
       "      <td>184.120</td>\n",
       "      <td>181.81</td>\n",
       "      <td>182.960</td>\n",
       "      <td>53763540</td>\n",
       "      <td>182.175439</td>\n",
       "      <td>183.88324</td>\n",
       "      <td>181.576211</td>\n",
       "      <td>182.724732</td>\n",
       "      <td>53763540</td>\n",
       "      <td>0.00</td>\n",
       "      <td>1.0</td>\n",
       "    </tr>\n",
       "    <tr>\n",
       "      <th>2023-11-10 00:00:00+00:00</th>\n",
       "      <td>186.40</td>\n",
       "      <td>186.565</td>\n",
       "      <td>183.53</td>\n",
       "      <td>183.970</td>\n",
       "      <td>66177922</td>\n",
       "      <td>186.400000</td>\n",
       "      <td>186.56500</td>\n",
       "      <td>183.530000</td>\n",
       "      <td>183.970000</td>\n",
       "      <td>66177922</td>\n",
       "      <td>0.24</td>\n",
       "      <td>1.0</td>\n",
       "    </tr>\n",
       "    <tr>\n",
       "      <th>2023-11-13 00:00:00+00:00</th>\n",
       "      <td>184.80</td>\n",
       "      <td>186.030</td>\n",
       "      <td>184.21</td>\n",
       "      <td>185.820</td>\n",
       "      <td>43627519</td>\n",
       "      <td>184.800000</td>\n",
       "      <td>186.03000</td>\n",
       "      <td>184.210000</td>\n",
       "      <td>185.820000</td>\n",
       "      <td>43627519</td>\n",
       "      <td>0.00</td>\n",
       "      <td>1.0</td>\n",
       "    </tr>\n",
       "    <tr>\n",
       "      <th>2023-11-14 00:00:00+00:00</th>\n",
       "      <td>187.44</td>\n",
       "      <td>188.110</td>\n",
       "      <td>186.30</td>\n",
       "      <td>187.700</td>\n",
       "      <td>60108378</td>\n",
       "      <td>187.440000</td>\n",
       "      <td>188.11000</td>\n",
       "      <td>186.300000</td>\n",
       "      <td>187.700000</td>\n",
       "      <td>60108378</td>\n",
       "      <td>0.00</td>\n",
       "      <td>1.0</td>\n",
       "    </tr>\n",
       "    <tr>\n",
       "      <th>2023-11-15 00:00:00+00:00</th>\n",
       "      <td>188.01</td>\n",
       "      <td>189.500</td>\n",
       "      <td>187.78</td>\n",
       "      <td>187.845</td>\n",
       "      <td>53790499</td>\n",
       "      <td>188.010000</td>\n",
       "      <td>189.50000</td>\n",
       "      <td>187.780000</td>\n",
       "      <td>187.845000</td>\n",
       "      <td>53790499</td>\n",
       "      <td>0.00</td>\n",
       "      <td>1.0</td>\n",
       "    </tr>\n",
       "  </tbody>\n",
       "</table>\n",
       "</div>"
      ],
      "text/plain": [
       "                                   close     high     low     open    volume  \\\n",
       "symbol date                                                                    \n",
       "AAPL   2023-11-09 00:00:00+00:00  182.41  184.120  181.81  182.960  53763540   \n",
       "       2023-11-10 00:00:00+00:00  186.40  186.565  183.53  183.970  66177922   \n",
       "       2023-11-13 00:00:00+00:00  184.80  186.030  184.21  185.820  43627519   \n",
       "       2023-11-14 00:00:00+00:00  187.44  188.110  186.30  187.700  60108378   \n",
       "       2023-11-15 00:00:00+00:00  188.01  189.500  187.78  187.845  53790499   \n",
       "\n",
       "                                    adjClose    adjHigh      adjLow  \\\n",
       "symbol date                                                           \n",
       "AAPL   2023-11-09 00:00:00+00:00  182.175439  183.88324  181.576211   \n",
       "       2023-11-10 00:00:00+00:00  186.400000  186.56500  183.530000   \n",
       "       2023-11-13 00:00:00+00:00  184.800000  186.03000  184.210000   \n",
       "       2023-11-14 00:00:00+00:00  187.440000  188.11000  186.300000   \n",
       "       2023-11-15 00:00:00+00:00  188.010000  189.50000  187.780000   \n",
       "\n",
       "                                     adjOpen  adjVolume  divCash  splitFactor  \n",
       "symbol date                                                                    \n",
       "AAPL   2023-11-09 00:00:00+00:00  182.724732   53763540     0.00          1.0  \n",
       "       2023-11-10 00:00:00+00:00  183.970000   66177922     0.24          1.0  \n",
       "       2023-11-13 00:00:00+00:00  185.820000   43627519     0.00          1.0  \n",
       "       2023-11-14 00:00:00+00:00  187.700000   60108378     0.00          1.0  \n",
       "       2023-11-15 00:00:00+00:00  187.845000   53790499     0.00          1.0  "
      ]
     },
     "execution_count": 24,
     "metadata": {},
     "output_type": "execute_result"
    }
   ],
   "source": [
    "df=pdr.get_data_tiingo('AAPL',api_key=\"576a3eb71590fe6808cd2a75620aac930ae49e5e\")\n",
    "df.tail()"
   ]
  },
  {
   "cell_type": "code",
   "execution_count": 25,
   "id": "49898761",
   "metadata": {},
   "outputs": [],
   "source": [
    "df.to_csv(\"AAPL.csv\")"
   ]
  },
  {
   "cell_type": "code",
   "execution_count": 26,
   "id": "041108d7",
   "metadata": {},
   "outputs": [],
   "source": [
    "df=pd.read_csv(\"AAPL.csv\")"
   ]
  },
  {
   "cell_type": "code",
   "execution_count": 27,
   "id": "17b2a9bc",
   "metadata": {},
   "outputs": [
    {
     "data": {
      "text/html": [
       "<div>\n",
       "<style scoped>\n",
       "    .dataframe tbody tr th:only-of-type {\n",
       "        vertical-align: middle;\n",
       "    }\n",
       "\n",
       "    .dataframe tbody tr th {\n",
       "        vertical-align: top;\n",
       "    }\n",
       "\n",
       "    .dataframe thead th {\n",
       "        text-align: right;\n",
       "    }\n",
       "</style>\n",
       "<table border=\"1\" class=\"dataframe\">\n",
       "  <thead>\n",
       "    <tr style=\"text-align: right;\">\n",
       "      <th></th>\n",
       "      <th>symbol</th>\n",
       "      <th>date</th>\n",
       "      <th>close</th>\n",
       "      <th>high</th>\n",
       "      <th>low</th>\n",
       "      <th>open</th>\n",
       "      <th>volume</th>\n",
       "      <th>adjClose</th>\n",
       "      <th>adjHigh</th>\n",
       "      <th>adjLow</th>\n",
       "      <th>adjOpen</th>\n",
       "      <th>adjVolume</th>\n",
       "      <th>divCash</th>\n",
       "      <th>splitFactor</th>\n",
       "    </tr>\n",
       "  </thead>\n",
       "  <tbody>\n",
       "    <tr>\n",
       "      <th>0</th>\n",
       "      <td>AAPL</td>\n",
       "      <td>2018-11-19 00:00:00+00:00</td>\n",
       "      <td>185.86</td>\n",
       "      <td>190.700</td>\n",
       "      <td>184.99</td>\n",
       "      <td>190.000</td>\n",
       "      <td>41920872</td>\n",
       "      <td>44.596212</td>\n",
       "      <td>45.757547</td>\n",
       "      <td>44.387460</td>\n",
       "      <td>45.589585</td>\n",
       "      <td>167683488</td>\n",
       "      <td>0.00</td>\n",
       "      <td>1.0</td>\n",
       "    </tr>\n",
       "    <tr>\n",
       "      <th>1</th>\n",
       "      <td>AAPL</td>\n",
       "      <td>2018-11-20 00:00:00+00:00</td>\n",
       "      <td>176.98</td>\n",
       "      <td>181.470</td>\n",
       "      <td>175.51</td>\n",
       "      <td>178.370</td>\n",
       "      <td>67825247</td>\n",
       "      <td>42.465499</td>\n",
       "      <td>43.542853</td>\n",
       "      <td>42.112779</td>\n",
       "      <td>42.799023</td>\n",
       "      <td>271300988</td>\n",
       "      <td>0.00</td>\n",
       "      <td>1.0</td>\n",
       "    </tr>\n",
       "    <tr>\n",
       "      <th>2</th>\n",
       "      <td>AAPL</td>\n",
       "      <td>2018-11-21 00:00:00+00:00</td>\n",
       "      <td>176.78</td>\n",
       "      <td>180.270</td>\n",
       "      <td>176.55</td>\n",
       "      <td>179.730</td>\n",
       "      <td>31124210</td>\n",
       "      <td>42.417510</td>\n",
       "      <td>43.254919</td>\n",
       "      <td>42.362322</td>\n",
       "      <td>43.125348</td>\n",
       "      <td>124496840</td>\n",
       "      <td>0.00</td>\n",
       "      <td>1.0</td>\n",
       "    </tr>\n",
       "    <tr>\n",
       "      <th>3</th>\n",
       "      <td>AAPL</td>\n",
       "      <td>2018-11-23 00:00:00+00:00</td>\n",
       "      <td>172.29</td>\n",
       "      <td>176.595</td>\n",
       "      <td>172.10</td>\n",
       "      <td>174.940</td>\n",
       "      <td>23623972</td>\n",
       "      <td>41.340156</td>\n",
       "      <td>42.373120</td>\n",
       "      <td>41.294566</td>\n",
       "      <td>41.976011</td>\n",
       "      <td>94495888</td>\n",
       "      <td>0.00</td>\n",
       "      <td>1.0</td>\n",
       "    </tr>\n",
       "    <tr>\n",
       "      <th>4</th>\n",
       "      <td>AAPL</td>\n",
       "      <td>2018-11-26 00:00:00+00:00</td>\n",
       "      <td>174.62</td>\n",
       "      <td>174.950</td>\n",
       "      <td>170.26</td>\n",
       "      <td>174.240</td>\n",
       "      <td>44998520</td>\n",
       "      <td>41.899228</td>\n",
       "      <td>41.978410</td>\n",
       "      <td>40.853067</td>\n",
       "      <td>41.808049</td>\n",
       "      <td>179994080</td>\n",
       "      <td>0.00</td>\n",
       "      <td>1.0</td>\n",
       "    </tr>\n",
       "    <tr>\n",
       "      <th>...</th>\n",
       "      <td>...</td>\n",
       "      <td>...</td>\n",
       "      <td>...</td>\n",
       "      <td>...</td>\n",
       "      <td>...</td>\n",
       "      <td>...</td>\n",
       "      <td>...</td>\n",
       "      <td>...</td>\n",
       "      <td>...</td>\n",
       "      <td>...</td>\n",
       "      <td>...</td>\n",
       "      <td>...</td>\n",
       "      <td>...</td>\n",
       "      <td>...</td>\n",
       "    </tr>\n",
       "    <tr>\n",
       "      <th>1251</th>\n",
       "      <td>AAPL</td>\n",
       "      <td>2023-11-09 00:00:00+00:00</td>\n",
       "      <td>182.41</td>\n",
       "      <td>184.120</td>\n",
       "      <td>181.81</td>\n",
       "      <td>182.960</td>\n",
       "      <td>53763540</td>\n",
       "      <td>182.175439</td>\n",
       "      <td>183.883240</td>\n",
       "      <td>181.576211</td>\n",
       "      <td>182.724732</td>\n",
       "      <td>53763540</td>\n",
       "      <td>0.00</td>\n",
       "      <td>1.0</td>\n",
       "    </tr>\n",
       "    <tr>\n",
       "      <th>1252</th>\n",
       "      <td>AAPL</td>\n",
       "      <td>2023-11-10 00:00:00+00:00</td>\n",
       "      <td>186.40</td>\n",
       "      <td>186.565</td>\n",
       "      <td>183.53</td>\n",
       "      <td>183.970</td>\n",
       "      <td>66177922</td>\n",
       "      <td>186.400000</td>\n",
       "      <td>186.565000</td>\n",
       "      <td>183.530000</td>\n",
       "      <td>183.970000</td>\n",
       "      <td>66177922</td>\n",
       "      <td>0.24</td>\n",
       "      <td>1.0</td>\n",
       "    </tr>\n",
       "    <tr>\n",
       "      <th>1253</th>\n",
       "      <td>AAPL</td>\n",
       "      <td>2023-11-13 00:00:00+00:00</td>\n",
       "      <td>184.80</td>\n",
       "      <td>186.030</td>\n",
       "      <td>184.21</td>\n",
       "      <td>185.820</td>\n",
       "      <td>43627519</td>\n",
       "      <td>184.800000</td>\n",
       "      <td>186.030000</td>\n",
       "      <td>184.210000</td>\n",
       "      <td>185.820000</td>\n",
       "      <td>43627519</td>\n",
       "      <td>0.00</td>\n",
       "      <td>1.0</td>\n",
       "    </tr>\n",
       "    <tr>\n",
       "      <th>1254</th>\n",
       "      <td>AAPL</td>\n",
       "      <td>2023-11-14 00:00:00+00:00</td>\n",
       "      <td>187.44</td>\n",
       "      <td>188.110</td>\n",
       "      <td>186.30</td>\n",
       "      <td>187.700</td>\n",
       "      <td>60108378</td>\n",
       "      <td>187.440000</td>\n",
       "      <td>188.110000</td>\n",
       "      <td>186.300000</td>\n",
       "      <td>187.700000</td>\n",
       "      <td>60108378</td>\n",
       "      <td>0.00</td>\n",
       "      <td>1.0</td>\n",
       "    </tr>\n",
       "    <tr>\n",
       "      <th>1255</th>\n",
       "      <td>AAPL</td>\n",
       "      <td>2023-11-15 00:00:00+00:00</td>\n",
       "      <td>188.01</td>\n",
       "      <td>189.500</td>\n",
       "      <td>187.78</td>\n",
       "      <td>187.845</td>\n",
       "      <td>53790499</td>\n",
       "      <td>188.010000</td>\n",
       "      <td>189.500000</td>\n",
       "      <td>187.780000</td>\n",
       "      <td>187.845000</td>\n",
       "      <td>53790499</td>\n",
       "      <td>0.00</td>\n",
       "      <td>1.0</td>\n",
       "    </tr>\n",
       "  </tbody>\n",
       "</table>\n",
       "<p>1256 rows × 14 columns</p>\n",
       "</div>"
      ],
      "text/plain": [
       "     symbol                       date   close     high     low     open  \\\n",
       "0      AAPL  2018-11-19 00:00:00+00:00  185.86  190.700  184.99  190.000   \n",
       "1      AAPL  2018-11-20 00:00:00+00:00  176.98  181.470  175.51  178.370   \n",
       "2      AAPL  2018-11-21 00:00:00+00:00  176.78  180.270  176.55  179.730   \n",
       "3      AAPL  2018-11-23 00:00:00+00:00  172.29  176.595  172.10  174.940   \n",
       "4      AAPL  2018-11-26 00:00:00+00:00  174.62  174.950  170.26  174.240   \n",
       "...     ...                        ...     ...      ...     ...      ...   \n",
       "1251   AAPL  2023-11-09 00:00:00+00:00  182.41  184.120  181.81  182.960   \n",
       "1252   AAPL  2023-11-10 00:00:00+00:00  186.40  186.565  183.53  183.970   \n",
       "1253   AAPL  2023-11-13 00:00:00+00:00  184.80  186.030  184.21  185.820   \n",
       "1254   AAPL  2023-11-14 00:00:00+00:00  187.44  188.110  186.30  187.700   \n",
       "1255   AAPL  2023-11-15 00:00:00+00:00  188.01  189.500  187.78  187.845   \n",
       "\n",
       "        volume    adjClose     adjHigh      adjLow     adjOpen  adjVolume  \\\n",
       "0     41920872   44.596212   45.757547   44.387460   45.589585  167683488   \n",
       "1     67825247   42.465499   43.542853   42.112779   42.799023  271300988   \n",
       "2     31124210   42.417510   43.254919   42.362322   43.125348  124496840   \n",
       "3     23623972   41.340156   42.373120   41.294566   41.976011   94495888   \n",
       "4     44998520   41.899228   41.978410   40.853067   41.808049  179994080   \n",
       "...        ...         ...         ...         ...         ...        ...   \n",
       "1251  53763540  182.175439  183.883240  181.576211  182.724732   53763540   \n",
       "1252  66177922  186.400000  186.565000  183.530000  183.970000   66177922   \n",
       "1253  43627519  184.800000  186.030000  184.210000  185.820000   43627519   \n",
       "1254  60108378  187.440000  188.110000  186.300000  187.700000   60108378   \n",
       "1255  53790499  188.010000  189.500000  187.780000  187.845000   53790499   \n",
       "\n",
       "      divCash  splitFactor  \n",
       "0        0.00          1.0  \n",
       "1        0.00          1.0  \n",
       "2        0.00          1.0  \n",
       "3        0.00          1.0  \n",
       "4        0.00          1.0  \n",
       "...       ...          ...  \n",
       "1251     0.00          1.0  \n",
       "1252     0.24          1.0  \n",
       "1253     0.00          1.0  \n",
       "1254     0.00          1.0  \n",
       "1255     0.00          1.0  \n",
       "\n",
       "[1256 rows x 14 columns]"
      ]
     },
     "execution_count": 27,
     "metadata": {},
     "output_type": "execute_result"
    }
   ],
   "source": [
    "df"
   ]
  },
  {
   "cell_type": "code",
   "execution_count": 30,
   "id": "ef848cfc",
   "metadata": {},
   "outputs": [],
   "source": [
    "df1=df.reset_index()[\"close\"]"
   ]
  },
  {
   "cell_type": "code",
   "execution_count": 31,
   "id": "b7f500d5",
   "metadata": {},
   "outputs": [
    {
     "data": {
      "text/plain": [
       "(1256,)"
      ]
     },
     "execution_count": 31,
     "metadata": {},
     "output_type": "execute_result"
    }
   ],
   "source": [
    "df1.shape"
   ]
  },
  {
   "cell_type": "code",
   "execution_count": 32,
   "id": "791d87ec",
   "metadata": {},
   "outputs": [
    {
     "data": {
      "text/plain": [
       "[<matplotlib.lines.Line2D at 0x231bdac6bc0>]"
      ]
     },
     "execution_count": 32,
     "metadata": {},
     "output_type": "execute_result"
    },
    {
     "data": {
      "image/png": "[encoded data removed]",
      "text/plain": [
       "<Figure size 640x480 with 1 Axes>"
      ]
     },
     "metadata": {},
     "output_type": "display_data"
    }
   ],
   "source": [
    "plt.plot(df1)"
   ]
  },
  {
   "cell_type": "code",
   "execution_count": 35,
   "id": "5e0c2666",
   "metadata": {},
   "outputs": [],
   "source": [
    "#LSTM are very sensitive to scale of data , hence we gonna use minmax scaler (i.e we are preprocessing data )"
   ]
  },
  {
   "cell_type": "code",
   "execution_count": 36,
   "id": "5ab660b3",
   "metadata": {},
   "outputs": [],
   "source": [
    "from sklearn.preprocessing import MinMaxScaler\n",
    "scaler=MinMaxScaler(feature_range=(0,1))\n",
    "df1=scaler.fit_transform(np.array(df1).reshape(-1,1))"
   ]
  },
  {
   "cell_type": "code",
   "execution_count": 37,
   "id": "84d29a20",
   "metadata": {},
   "outputs": [
    {
     "data": {
      "text/plain": [
       "(1256, 1)"
      ]
     },
     "execution_count": 37,
     "metadata": {},
     "output_type": "execute_result"
    }
   ],
   "source": [
    "df1.shape"
   ]
  },
  {
   "cell_type": "code",
   "execution_count": 38,
   "id": "95b4d586",
   "metadata": {},
   "outputs": [
    {
     "data": {
      "text/plain": [
       "array([[0.1979211 ],\n",
       "       [0.1756794 ],\n",
       "       [0.17517846],\n",
       "       ...,\n",
       "       [0.19526612],\n",
       "       [0.20187852],\n",
       "       [0.2033062 ]])"
      ]
     },
     "execution_count": 38,
     "metadata": {},
     "output_type": "execute_result"
    }
   ],
   "source": [
    "df1"
   ]
  },
  {
   "cell_type": "code",
   "execution_count": 43,
   "id": "9256d213",
   "metadata": {},
   "outputs": [],
   "source": [
    "#Now we gonna divide data into train and test sets ...There are various methods of doing this like cross validation, Random seed etc in case of regression or classification problem \n",
    "#But in case of time series data there are different methods of doing ...ike first hundred days as features and 101th day as result and so on ..."
   ]
  },
  {
   "cell_type": "code",
   "execution_count": 44,
   "id": "d543cad3",
   "metadata": {},
   "outputs": [],
   "source": [
    "training_size=int(len(df1)*0.65)\n",
    "test_size=len(df1)-training_size\n",
    "train_data,test_data=df1[0:training_size,:],df1[training_size:len(df1), :1]"
   ]
  },
  {
   "cell_type": "code",
   "execution_count": 51,
   "id": "89c2f063",
   "metadata": {},
   "outputs": [],
   "source": [
    "#convert an array of values into a dataset matrix (creating a method)\n",
    "\n",
    "def create_dataset(dataset,time_step=1):\n",
    "    dataX,dataY = [], []\n",
    "    for i in range(len(dataset)-time_step-1):\n",
    "        a=dataset[i:(i+time_step),0]    #i=0,1,2,3\n",
    "        dataX.append(a)\n",
    "        dataY.append(dataset[i+time_step,0])\n",
    "    return np.array(dataX), np.array(dataY)"
   ]
  },
  {
   "cell_type": "code",
   "execution_count": 52,
   "id": "284b7c66",
   "metadata": {},
   "outputs": [],
   "source": [
    "# reshape into X=t, t+1,t+2,t+3 and Y=t+4\n",
    "\n",
    "time_step=100\n",
    "X_train, y_train = create_dataset(train_data,time_step)\n",
    "X_test, y_test= create_dataset(test_data,time_step)"
   ]
  },
  {
   "cell_type": "code",
   "execution_count": 53,
   "id": "6909b363",
   "metadata": {},
   "outputs": [
    {
     "name": "stdout",
     "output_type": "stream",
     "text": [
      "(715, 100)\n",
      "(715,)\n"
     ]
    },
    {
     "data": {
      "text/plain": [
       "(None, None)"
      ]
     },
     "execution_count": 53,
     "metadata": {},
     "output_type": "execute_result"
    }
   ],
   "source": [
    "print(X_train.shape), print (y_train.shape)  #just checking"
   ]
  },
  {
   "cell_type": "code",
   "execution_count": 54,
   "id": "9499cf7e",
   "metadata": {},
   "outputs": [
    {
     "name": "stdout",
     "output_type": "stream",
     "text": [
      "(339, 100)\n",
      "(339,)\n"
     ]
    },
    {
     "data": {
      "text/plain": [
       "(None, None)"
      ]
     },
     "execution_count": 54,
     "metadata": {},
     "output_type": "execute_result"
    }
   ],
   "source": [
    "print(X_test.shape), print (y_test.shape)  #just checking"
   ]
  },
  {
   "cell_type": "code",
   "execution_count": 59,
   "id": "4df7c3be",
   "metadata": {},
   "outputs": [],
   "source": [
    "# Now data preprocessing is done , Now as required for LSTM that we need to reshape X_train and X_testinto 3-dimensions\n",
    "#[samples,time steps, feataures]\n",
    "\n",
    "X_train=X_train.reshape(X_train.shape[0],X_train.shape[1],1)\n",
    "X_test=X_test.reshape(X_test.shape[0],X_test.shape[1],1)\n"
   ]
  },
  {
   "cell_type": "code",
   "execution_count": null,
   "id": "db26475d",
   "metadata": {},
   "outputs": [],
   "source": []
  },
  {
   "cell_type": "code",
   "execution_count": 63,
   "id": "d60c0d77",
   "metadata": {},
   "outputs": [],
   "source": [
    "### Creating STACKED LSTM MOdel\n",
    "\n",
    "from tensorflow.keras.models import Sequential\n",
    "from tensorflow.keras.layers import Dense\n",
    "from tensorflow.keras.layers import LSTM\n"
   ]
  },
  {
   "cell_type": "code",
   "execution_count": 64,
   "id": "ad2cfbce",
   "metadata": {},
   "outputs": [
    {
     "name": "stdout",
     "output_type": "stream",
     "text": [
      "WARNING:tensorflow:From C:\\Users\\Himanshu\\latest python\\lib\\site-packages\\keras\\src\\backend.py:873: The name tf.get_default_graph is deprecated. Please use tf.compat.v1.get_default_graph instead.\n",
      "\n",
      "WARNING:tensorflow:From C:\\Users\\Himanshu\\latest python\\lib\\site-packages\\keras\\src\\optimizers\\__init__.py:309: The name tf.train.Optimizer is deprecated. Please use tf.compat.v1.train.Optimizer instead.\n",
      "\n"
     ]
    }
   ],
   "source": [
    "model=Sequential()\n",
    "model.add(LSTM(50,return_sequences=True, input_shape=(100,1)))\n",
    "model.add(LSTM(50,return_sequences=True))\n",
    "model.add(LSTM(50))\n",
    "model.add(Dense(1))\n",
    "model.compile(loss='mean_squared_error', optimizer='adam')"
   ]
  },
  {
   "cell_type": "code",
   "execution_count": 65,
   "id": "e01ebad5",
   "metadata": {},
   "outputs": [
    {
     "name": "stdout",
     "output_type": "stream",
     "text": [
      "Model: \"sequential\"\n",
      "_________________________________________________________________\n",
      " Layer (type)                Output Shape              Param #   \n",
      "=================================================================\n",
      " lstm (LSTM)                 (None, 100, 50)           10400     \n",
      "                                                                 \n",
      " lstm_1 (LSTM)               (None, 100, 50)           20200     \n",
      "                                                                 \n",
      " lstm_2 (LSTM)               (None, 50)                20200     \n",
      "                                                                 \n",
      " dense (Dense)               (None, 1)                 51        \n",
      "                                                                 \n",
      "=================================================================\n",
      "Total params: 50851 (198.64 KB)\n",
      "Trainable params: 50851 (198.64 KB)\n",
      "Non-trainable params: 0 (0.00 Byte)\n",
      "_________________________________________________________________\n"
     ]
    }
   ],
   "source": [
    "model.summary()"
   ]
  },
  {
   "cell_type": "code",
   "execution_count": 67,
   "id": "be7f8c2f",
   "metadata": {},
   "outputs": [
    {
     "name": "stdout",
     "output_type": "stream",
     "text": [
      "Epoch 1/100\n",
      "WARNING:tensorflow:From C:\\Users\\Himanshu\\latest python\\lib\\site-packages\\keras\\src\\utils\\tf_utils.py:492: The name tf.ragged.RaggedTensorValue is deprecated. Please use tf.compat.v1.ragged.RaggedTensorValue instead.\n",
      "\n",
      "12/12 [==============================] - 11s 334ms/step - loss: 0.0457 - val_loss: 0.0017\n",
      "Epoch 2/100\n",
      "12/12 [==============================] - 2s 142ms/step - loss: 0.0154 - val_loss: 0.0035\n",
      "Epoch 3/100\n",
      "12/12 [==============================] - 2s 140ms/step - loss: 0.0127 - val_loss: 4.7867e-04\n",
      "Epoch 4/100\n",
      "12/12 [==============================] - 2s 137ms/step - loss: 0.0094 - val_loss: 5.5462e-04\n",
      "Epoch 5/100\n",
      "12/12 [==============================] - 2s 145ms/step - loss: 0.0093 - val_loss: 0.0021\n",
      "Epoch 6/100\n",
      "12/12 [==============================] - 2s 127ms/step - loss: 0.0081 - val_loss: 5.0277e-04\n",
      "Epoch 7/100\n",
      "12/12 [==============================] - 2s 132ms/step - loss: 0.0067 - val_loss: 7.9068e-04\n",
      "Epoch 8/100\n",
      "12/12 [==============================] - 2s 135ms/step - loss: 0.0058 - val_loss: 4.5319e-04\n",
      "Epoch 9/100\n",
      "12/12 [==============================] - 2s 134ms/step - loss: 0.0051 - val_loss: 5.8117e-04\n",
      "Epoch 10/100\n",
      "12/12 [==============================] - 2s 136ms/step - loss: 0.0043 - val_loss: 3.0145e-04\n",
      "Epoch 11/100\n",
      "12/12 [==============================] - 2s 136ms/step - loss: 0.0047 - val_loss: 2.8558e-04\n",
      "Epoch 12/100\n",
      "12/12 [==============================] - 2s 139ms/step - loss: 0.0039 - val_loss: 4.0652e-04\n",
      "Epoch 13/100\n",
      "12/12 [==============================] - 2s 137ms/step - loss: 0.0035 - val_loss: 2.5528e-04\n",
      "Epoch 14/100\n",
      "12/12 [==============================] - 2s 138ms/step - loss: 0.0031 - val_loss: 3.9495e-04\n",
      "Epoch 15/100\n",
      "12/12 [==============================] - 1s 125ms/step - loss: 0.0031 - val_loss: 2.4976e-04\n",
      "Epoch 16/100\n",
      "12/12 [==============================] - 2s 133ms/step - loss: 0.0025 - val_loss: 2.0505e-04\n",
      "Epoch 17/100\n",
      "12/12 [==============================] - 2s 134ms/step - loss: 0.0040 - val_loss: 2.0641e-04\n",
      "Epoch 18/100\n",
      "12/12 [==============================] - 2s 137ms/step - loss: 0.0041 - val_loss: 5.1554e-04\n",
      "Epoch 19/100\n",
      "12/12 [==============================] - 2s 138ms/step - loss: 0.0043 - val_loss: 2.0371e-04\n",
      "Epoch 20/100\n",
      "12/12 [==============================] - 2s 137ms/step - loss: 0.0035 - val_loss: 2.0673e-04\n",
      "Epoch 21/100\n",
      "12/12 [==============================] - 2s 137ms/step - loss: 0.0030 - val_loss: 2.9358e-04\n",
      "Epoch 22/100\n",
      "12/12 [==============================] - 2s 144ms/step - loss: 0.0031 - val_loss: 5.8776e-04\n",
      "Epoch 23/100\n",
      "12/12 [==============================] - 2s 140ms/step - loss: 0.0027 - val_loss: 2.1074e-04\n",
      "Epoch 24/100\n",
      "12/12 [==============================] - 2s 142ms/step - loss: 0.0024 - val_loss: 2.2701e-04\n",
      "Epoch 25/100\n",
      "12/12 [==============================] - 1s 125ms/step - loss: 0.0023 - val_loss: 2.1639e-04\n",
      "Epoch 26/100\n",
      "12/12 [==============================] - 1s 125ms/step - loss: 0.0025 - val_loss: 3.8590e-04\n",
      "Epoch 27/100\n",
      "12/12 [==============================] - 2s 135ms/step - loss: 0.0026 - val_loss: 4.0541e-04\n",
      "Epoch 28/100\n",
      "12/12 [==============================] - 2s 136ms/step - loss: 0.0023 - val_loss: 1.9818e-04\n",
      "Epoch 29/100\n",
      "12/12 [==============================] - 2s 138ms/step - loss: 0.0025 - val_loss: 7.5046e-04\n",
      "Epoch 30/100\n",
      "12/12 [==============================] - 2s 136ms/step - loss: 0.0030 - val_loss: 2.0322e-04\n",
      "Epoch 31/100\n",
      "12/12 [==============================] - 2s 137ms/step - loss: 0.0023 - val_loss: 3.2026e-04\n",
      "Epoch 32/100\n",
      "12/12 [==============================] - 2s 138ms/step - loss: 0.0021 - val_loss: 3.5709e-04\n",
      "Epoch 33/100\n",
      "12/12 [==============================] - 2s 145ms/step - loss: 0.0019 - val_loss: 2.1597e-04\n",
      "Epoch 34/100\n",
      "12/12 [==============================] - 2s 128ms/step - loss: 0.0016 - val_loss: 2.0888e-04\n",
      "Epoch 35/100\n",
      "12/12 [==============================] - 2s 129ms/step - loss: 0.0018 - val_loss: 2.1751e-04\n",
      "Epoch 36/100\n",
      "12/12 [==============================] - 1s 125ms/step - loss: 0.0026 - val_loss: 2.2541e-04\n",
      "Epoch 37/100\n",
      "12/12 [==============================] - 2s 137ms/step - loss: 0.0041 - val_loss: 6.2096e-04\n",
      "Epoch 38/100\n",
      "12/12 [==============================] - 2s 136ms/step - loss: 0.0037 - val_loss: 2.8396e-04\n",
      "Epoch 39/100\n",
      "12/12 [==============================] - 2s 137ms/step - loss: 0.0030 - val_loss: 2.5578e-04\n",
      "Epoch 40/100\n",
      "12/12 [==============================] - 2s 137ms/step - loss: 0.0021 - val_loss: 2.3424e-04\n",
      "Epoch 41/100\n",
      "12/12 [==============================] - 2s 137ms/step - loss: 0.0018 - val_loss: 2.3095e-04\n",
      "Epoch 42/100\n",
      "12/12 [==============================] - 2s 139ms/step - loss: 0.0040 - val_loss: 5.0362e-04\n",
      "Epoch 43/100\n",
      "12/12 [==============================] - 2s 136ms/step - loss: 0.0048 - val_loss: 2.6325e-04\n",
      "Epoch 44/100\n",
      "12/12 [==============================] - 2s 129ms/step - loss: 0.0033 - val_loss: 2.1707e-04\n",
      "Epoch 45/100\n",
      "12/12 [==============================] - 1s 125ms/step - loss: 0.0030 - val_loss: 1.9490e-04\n",
      "Epoch 46/100\n",
      "12/12 [==============================] - 1s 125ms/step - loss: 0.0023 - val_loss: 3.1523e-04\n",
      "Epoch 47/100\n",
      "12/12 [==============================] - 2s 137ms/step - loss: 0.0043 - val_loss: 3.5759e-04\n",
      "Epoch 48/100\n",
      "12/12 [==============================] - 2s 138ms/step - loss: 0.0036 - val_loss: 3.0393e-04\n",
      "Epoch 49/100\n",
      "12/12 [==============================] - 2s 137ms/step - loss: 0.0022 - val_loss: 3.7210e-04\n",
      "Epoch 50/100\n",
      "12/12 [==============================] - 2s 136ms/step - loss: 0.0018 - val_loss: 2.1067e-04\n",
      "Epoch 51/100\n",
      "12/12 [==============================] - 2s 136ms/step - loss: 0.0015 - val_loss: 2.1589e-04\n",
      "Epoch 52/100\n",
      "12/12 [==============================] - 2s 142ms/step - loss: 0.0017 - val_loss: 2.4038e-04\n",
      "Epoch 53/100\n",
      "12/12 [==============================] - 2s 139ms/step - loss: 0.0016 - val_loss: 2.0483e-04\n",
      "Epoch 54/100\n",
      "12/12 [==============================] - 2s 129ms/step - loss: 0.0016 - val_loss: 2.8073e-04\n",
      "Epoch 55/100\n",
      "12/12 [==============================] - 1s 126ms/step - loss: 0.0018 - val_loss: 2.8552e-04\n",
      "Epoch 56/100\n",
      "12/12 [==============================] - 1s 126ms/step - loss: 0.0014 - val_loss: 2.1162e-04\n",
      "Epoch 57/100\n",
      "12/12 [==============================] - 2s 134ms/step - loss: 0.0027 - val_loss: 2.2200e-04\n",
      "Epoch 58/100\n",
      "12/12 [==============================] - 2s 138ms/step - loss: 0.0019 - val_loss: 6.8477e-04\n",
      "Epoch 59/100\n",
      "12/12 [==============================] - 2s 142ms/step - loss: 0.0020 - val_loss: 2.2978e-04\n",
      "Epoch 60/100\n",
      "12/12 [==============================] - 2s 135ms/step - loss: 0.0015 - val_loss: 2.8683e-04\n",
      "Epoch 61/100\n",
      "12/12 [==============================] - 2s 143ms/step - loss: 0.0015 - val_loss: 2.1905e-04\n",
      "Epoch 62/100\n",
      "12/12 [==============================] - 2s 140ms/step - loss: 0.0013 - val_loss: 3.3797e-04\n",
      "Epoch 63/100\n",
      "12/12 [==============================] - 2s 140ms/step - loss: 0.0014 - val_loss: 2.1108e-04\n",
      "Epoch 64/100\n",
      "12/12 [==============================] - 2s 128ms/step - loss: 0.0013 - val_loss: 2.1620e-04\n",
      "Epoch 65/100\n",
      "12/12 [==============================] - 1s 124ms/step - loss: 0.0015 - val_loss: 2.0625e-04\n",
      "Epoch 66/100\n",
      "12/12 [==============================] - 2s 127ms/step - loss: 0.0014 - val_loss: 2.0423e-04\n",
      "Epoch 67/100\n",
      "12/12 [==============================] - 2s 142ms/step - loss: 0.0021 - val_loss: 2.5302e-04\n",
      "Epoch 68/100\n",
      "12/12 [==============================] - 2s 137ms/step - loss: 0.0014 - val_loss: 2.4573e-04\n",
      "Epoch 69/100\n",
      "12/12 [==============================] - 2s 137ms/step - loss: 0.0015 - val_loss: 3.6767e-04\n",
      "Epoch 70/100\n",
      "12/12 [==============================] - 2s 141ms/step - loss: 0.0014 - val_loss: 2.2546e-04\n",
      "Epoch 71/100\n",
      "12/12 [==============================] - 2s 153ms/step - loss: 0.0012 - val_loss: 2.2102e-04\n",
      "Epoch 72/100\n",
      "12/12 [==============================] - 2s 141ms/step - loss: 0.0011 - val_loss: 2.0382e-04\n",
      "Epoch 73/100\n",
      "12/12 [==============================] - 2s 149ms/step - loss: 0.0014 - val_loss: 2.0133e-04\n",
      "Epoch 74/100\n",
      "12/12 [==============================] - 2s 137ms/step - loss: 0.0013 - val_loss: 2.1955e-04\n",
      "Epoch 75/100\n",
      "12/12 [==============================] - 2s 129ms/step - loss: 0.0014 - val_loss: 2.9927e-04\n",
      "Epoch 76/100\n"
     ]
    },
    {
     "name": "stdout",
     "output_type": "stream",
     "text": [
      "12/12 [==============================] - 2s 134ms/step - loss: 0.0016 - val_loss: 2.3153e-04\n",
      "Epoch 77/100\n",
      "12/12 [==============================] - 2s 143ms/step - loss: 0.0013 - val_loss: 2.0446e-04\n",
      "Epoch 78/100\n",
      "12/12 [==============================] - 2s 134ms/step - loss: 0.0010 - val_loss: 2.0610e-04\n",
      "Epoch 79/100\n",
      "12/12 [==============================] - 2s 135ms/step - loss: 0.0012 - val_loss: 2.1467e-04\n",
      "Epoch 80/100\n",
      "12/12 [==============================] - 2s 136ms/step - loss: 0.0011 - val_loss: 2.2408e-04\n",
      "Epoch 81/100\n",
      "12/12 [==============================] - 2s 137ms/step - loss: 0.0031 - val_loss: 2.8033e-04\n",
      "Epoch 82/100\n",
      "12/12 [==============================] - 2s 138ms/step - loss: 0.0012 - val_loss: 2.0592e-04\n",
      "Epoch 83/100\n",
      "12/12 [==============================] - 2s 128ms/step - loss: 0.0022 - val_loss: 2.0073e-04\n",
      "Epoch 84/100\n",
      "12/12 [==============================] - 1s 124ms/step - loss: 0.0016 - val_loss: 2.3702e-04\n",
      "Epoch 85/100\n",
      "12/12 [==============================] - 1s 126ms/step - loss: 0.0025 - val_loss: 2.3550e-04\n",
      "Epoch 86/100\n",
      "12/12 [==============================] - 1s 124ms/step - loss: 0.0012 - val_loss: 2.0315e-04\n",
      "Epoch 87/100\n",
      "12/12 [==============================] - 2s 134ms/step - loss: 9.4261e-04 - val_loss: 1.9488e-04\n",
      "Epoch 88/100\n",
      "12/12 [==============================] - 2s 136ms/step - loss: 0.0012 - val_loss: 2.1315e-04\n",
      "Epoch 89/100\n",
      "12/12 [==============================] - 2s 134ms/step - loss: 0.0018 - val_loss: 2.1805e-04\n",
      "Epoch 90/100\n",
      "12/12 [==============================] - 2s 141ms/step - loss: 0.0010 - val_loss: 2.0516e-04\n",
      "Epoch 91/100\n",
      "12/12 [==============================] - 2s 135ms/step - loss: 8.4592e-04 - val_loss: 2.2065e-04\n",
      "Epoch 92/100\n",
      "12/12 [==============================] - 2s 135ms/step - loss: 0.0011 - val_loss: 2.4816e-04\n",
      "Epoch 93/100\n",
      "12/12 [==============================] - 2s 132ms/step - loss: 0.0016 - val_loss: 1.9885e-04\n",
      "Epoch 94/100\n",
      "12/12 [==============================] - 1s 124ms/step - loss: 0.0019 - val_loss: 4.1691e-04\n",
      "Epoch 95/100\n",
      "12/12 [==============================] - 1s 124ms/step - loss: 0.0012 - val_loss: 2.0315e-04\n",
      "Epoch 96/100\n",
      "12/12 [==============================] - 1s 123ms/step - loss: 0.0011 - val_loss: 3.0232e-04\n",
      "Epoch 97/100\n",
      "12/12 [==============================] - 2s 140ms/step - loss: 0.0014 - val_loss: 1.9097e-04\n",
      "Epoch 98/100\n",
      "12/12 [==============================] - 2s 134ms/step - loss: 0.0011 - val_loss: 1.9024e-04\n",
      "Epoch 99/100\n",
      "12/12 [==============================] - 2s 135ms/step - loss: 9.3447e-04 - val_loss: 1.9166e-04\n",
      "Epoch 100/100\n",
      "12/12 [==============================] - 2s 143ms/step - loss: 0.0025 - val_loss: 3.8850e-04\n"
     ]
    },
    {
     "data": {
      "text/plain": [
       "<keras.src.callbacks.History at 0x231c79cfd90>"
      ]
     },
     "execution_count": 67,
     "metadata": {},
     "output_type": "execute_result"
    }
   ],
   "source": [
    "model.fit(X_train,y_train,validation_data=(X_test,y_test),epochs=100,batch_size=64,verbose=1)"
   ]
  },
  {
   "cell_type": "code",
   "execution_count": 68,
   "id": "adeaa29b",
   "metadata": {},
   "outputs": [
    {
     "name": "stdout",
     "output_type": "stream",
     "text": [
      "23/23 [==============================] - 2s 30ms/step\n",
      "11/11 [==============================] - 0s 30ms/step\n"
     ]
    }
   ],
   "source": [
    "#Lets do the prediction now as machine is trained \n",
    "\n",
    "train_predict=model.predict(X_train)\n",
    "test_predict=model.predict(X_test)"
   ]
  },
  {
   "cell_type": "code",
   "execution_count": 69,
   "id": "2886e577",
   "metadata": {},
   "outputs": [],
   "source": [
    "## Transform baack to original form\n",
    "\n",
    "train_predict=scaler.inverse_transform(train_predict)\n",
    "test_predict=scaler.inverse_transform(test_predict)"
   ]
  },
  {
   "cell_type": "code",
   "execution_count": 75,
   "id": "b5e2d1b5",
   "metadata": {},
   "outputs": [
    {
     "data": {
      "text/plain": [
       "226.93665205628065"
      ]
     },
     "execution_count": 75,
     "metadata": {},
     "output_type": "execute_result"
    }
   ],
   "source": [
    "## calculate RMSE performance metrics\n",
    "\n",
    "import math\n",
    "from sklearn.metrics import mean_squared_error\n",
    "math.sqrt(mean_squared_error(y_train,train_predict))"
   ]
  },
  {
   "cell_type": "code",
   "execution_count": 76,
   "id": "ccfcee71",
   "metadata": {},
   "outputs": [
    {
     "data": {
      "text/plain": [
       "169.19372651907722"
      ]
     },
     "execution_count": 76,
     "metadata": {},
     "output_type": "execute_result"
    }
   ],
   "source": [
    "#Test data rMSE\n",
    "math.sqrt(mean_squared_error(y_test,test_predict))\n"
   ]
  },
  {
   "cell_type": "code",
   "execution_count": 74,
   "id": "65ec22f7",
   "metadata": {},
   "outputs": [
    {
     "data": {
      "image/png": "[encoded data removed]",
      "text/plain": [
       "<Figure size 640x480 with 1 Axes>"
      ]
     },
     "metadata": {},
     "output_type": "display_data"
    }
   ],
   "source": [
    "### Plotting \n",
    "\n",
    "# Shift train predictions for plotting \n",
    "\n",
    "look_back=100\n",
    "trainPredictPlot=np.empty_like(df1)\n",
    "trainPredictPlot[:,:]=np.nan\n",
    "trainPredictPlot[look_back:len(train_predict)+look_back,:]=train_predict\n",
    "\n",
    "#Shift train predictions for plotting \n",
    "\n",
    "testPredictPlot=np.empty_like(df1)\n",
    "testPredictPlot[:,:]=np.nan\n",
    "testPredictPlot[len(train_predict)+(look_back*2)+1:len(df1)-1, :] = test_predict\n",
    "\n",
    "#plot baseline and predictions\n",
    "\n",
    "plt.plot(scaler.inverse_transform(df1))\n",
    "plt.plot(trainPredictPlot)\n",
    "plt.plot(testPredictPlot)\n",
    "plt.show()"
   ]
  },
  {
   "cell_type": "code",
   "execution_count": null,
   "id": "8744330c",
   "metadata": {},
   "outputs": [],
   "source": []
  }
 ],
 "metadata": {
  "kernelspec": {
   "display_name": "Python 3 (ipykernel)",
   "language": "python",
   "name": "python3"
  },
  "language_info": {
   "codemirror_mode": {
    "name": "ipython",
    "version": 3
   },
   "file_extension": ".py",
   "mimetype": "text/x-python",
   "name": "python",
   "nbconvert_exporter": "python",
   "pygments_lexer": "ipython3",
   "version": "3.10.9"
  }
 },
 "nbformat": 4,
 "nbformat_minor": 5
}
